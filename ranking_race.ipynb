{
 "cells": [
  {
   "cell_type": "markdown",
   "id": "bcd0f283",
   "metadata": {},
   "source": [
    "## imports"
   ]
  },
  {
   "cell_type": "code",
   "execution_count": null,
   "id": "512bc829",
   "metadata": {},
   "outputs": [],
   "source": [
    "import json\n",
    "import warnings\n",
    "from datetime import datetime, timedelta\n",
    "from io import BytesIO, StringIO\n",
    "\n",
    "import git\n",
    "import pandas as pd\n",
    "import PIL\n",
    "\n",
    "warnings.filterwarnings(\"ignore\")"
   ]
  },
  {
   "cell_type": "markdown",
   "id": "72700130",
   "metadata": {},
   "source": [
    "---\n",
    "## fetch commits"
   ]
  },
  {
   "cell_type": "code",
   "execution_count": null,
   "id": "70bae17b",
   "metadata": {},
   "outputs": [],
   "source": [
    "YEAR = 2024\n",
    "CSV_PATH = f\"CTFTIME_{YEAR}.csv\"\n",
    "\n",
    "repo = git.Repo('./data')\n",
    "\n",
    "top_teams = []\n",
    "for commit in repo.iter_commits(paths=CSV_PATH):\n",
    "    # Read file contents from each commit\n",
    "    file_contents = (commit.tree / CSV_PATH).data_stream.read()\n",
    "    df = pd.read_csv(StringIO(file_contents.decode()))\n",
    "\n",
    "    # Add a 'weeks' column indicating the week number of the commit\n",
    "    #week_number = commit.committed_datetime.isocalendar()[1]\n",
    "    week_number = (commit.committed_datetime - timedelta(days=14)).isocalendar()[1]\n",
    "    df.loc[:, 'weeks'] = f'week {week_number:02}'\n",
    "\n",
    "    top_teams.append(df)\n",
    "\n",
    "# Concatenate all weekly DataFrames in chronological order\n",
    "df = pd.concat(top_teams[::-1], axis=0, ignore_index=True)"
   ]
  },
  {
   "cell_type": "markdown",
   "id": "2279cb24",
   "metadata": {},
   "source": [
    "---\n",
    "## Clean the data and merge latest country information\n",
    "Remove duplicates based on 'rank' and 'weeks', and ensure each team has the latest 'country' data by week. "
   ]
  },
  {
   "cell_type": "code",
   "execution_count": null,
   "id": "321f1911",
   "metadata": {},
   "outputs": [],
   "source": [
    "df = df.drop_duplicates(subset=['rank', 'weeks'], keep='last')\n",
    "\n",
    "# Get the latest country information for each team by name\n",
    "latest_countries = df.sort_values('weeks').groupby('Name').last()['country']\n",
    "\n",
    "# Merge the latest country data back into the main DataFrame\n",
    "df = df.drop(columns='country').merge(latest_countries, on='Name', how='left')\n",
    "\n",
    "# some rename\n",
    "df.loc[:,'Name'] = df['Name'].replace('💦\\u200b', 'BlueWater')"
   ]
  },
  {
   "cell_type": "markdown",
   "id": "90a9932a",
   "metadata": {},
   "source": [
    "---\n",
    "## Filter to include only teams that were in the top N at least once"
   ]
  },
  {
   "cell_type": "code",
   "execution_count": null,
   "id": "15b350e9",
   "metadata": {},
   "outputs": [],
   "source": [
    "top_n=10\n",
    "topTeams = df[df['rank'] <= top_n]['Name'].unique()\n",
    "selected_df = df[df['Name'].isin(topTeams)]"
   ]
  },
  {
   "cell_type": "markdown",
   "id": "32300942",
   "metadata": {},
   "source": [
    "---\n",
    "## Pivot data for Flourish Bar chart race\n",
    "- https://app.flourish.studio/@flourish/bar-chart-race"
   ]
  },
  {
   "cell_type": "code",
   "execution_count": null,
   "id": "c684a10a",
   "metadata": {},
   "outputs": [],
   "source": [
    "# Pivot the data by 'weeks' to have scores for each week as separate columns\n",
    "df_pivot = selected_df.pivot_table(\n",
    "    index=['Name', 'country'], \n",
    "    columns='weeks', \n",
    "    values='score', \n",
    "    fill_value=0  # Set missing scores to 0\n",
    ").reset_index()\n",
    "df_pivot.columns.name = None  # Remove the multi-index column grouping name\n",
    "\n",
    "# Save the pivoted DataFrame to CSV\n",
    "df_pivot.to_csv('df_pivot.csv', encoding='utf-8', index=False, header=True)"
   ]
  },
  {
   "cell_type": "markdown",
   "id": "c1dc08ee",
   "metadata": {},
   "source": [
    "---\n",
    "# with [Bar Chart Race](https://github.com/dexplo/bar_chart_race)"
   ]
  },
  {
   "cell_type": "code",
   "execution_count": null,
   "id": "1551c6dc",
   "metadata": {},
   "outputs": [],
   "source": [
    "from itertools import cycle\n",
    "\n",
    "teamName = selected_df.drop_duplicates(subset='Name', keep='first')['Name'].tolist()\n",
    "colors = [\n",
    "    'red', 'blue', 'green', 'yellow', 'cyan', 'magenta', 'black', 'white', \n",
    "    'gray', 'orange', 'purple', 'pink', 'brown', 'lime', 'olive', 'gold', \n",
    "    'teal', 'navy', 'coral', 'salmon', 'indigo', 'violet']\n",
    "\n",
    "[*zip(teamName, itertools.cycle(colors))]"
   ]
  },
  {
   "cell_type": "code",
   "execution_count": null,
   "id": "eead6321",
   "metadata": {},
   "outputs": [],
   "source": [
    "# pip install bar_chart_race\n",
    "import bar_chart_race as bcr\n",
    "\n",
    "df_pivot = selected_df.pivot(index='weeks', columns='Name', values='score').fillna(0)\n",
    "\n",
    "bcr.bar_chart_race(\n",
    "    df=df_pivot,\n",
    "    title='Top 10 Teams Race in 2024',\n",
    "    n_bars=10,  # Display top 10 individuals\n",
    "#     shared_fontdict={\n",
    "#         'family': 'FreeMono' # FreeMono, FreeSerif\n",
    "#     },\n",
    "    filename=f'CTF Ranking Race - {YEAR} Insights.mp4',\n",
    "    orientation='h',  # Horizontal bars\n",
    "    sort='desc',  # Sort in descending order\n",
    "    bar_size=0.9,\n",
    "    cmap='dark24', # tab20, Light24, dark24\n",
    "    period_length=500  # Speed of animation (lower is faster)\n",
    ")"
   ]
  },
  {
   "cell_type": "markdown",
   "id": "cd5dd335",
   "metadata": {},
   "source": [
    "---\n",
    "## with matplotlib"
   ]
  },
  {
   "cell_type": "code",
   "execution_count": null,
   "id": "c5d76311",
   "metadata": {},
   "outputs": [],
   "source": [
    "import matplotlib.pyplot as plt\n",
    "from matplotlib.animation import FuncAnimation\n",
    "\n",
    "top_teams = [team[team['rank']<=10] for team in top_teams[::-1]]\n",
    "\n",
    "def update(frame):\n",
    "    plt.cla()  # Clear the current axes\n",
    "    df = top_teams[frame]  # Get the DataFrame for the current year\n",
    "    teams = df['Name']\n",
    "    performance = df['score']\n",
    "    plt.barh(teams, performance, color='skyblue')\n",
    "    plt.xlabel('score')\n",
    "    plt.ylabel('Name')\n",
    "    for i, value in enumerate(df['score']):\n",
    "        plt.text(value, i, df.loc[i, 'Name'], ha='center', va='center', fontsize=10)\n",
    "        plt.text(value/2, i, f'{value}', ha='center', va='center', fontsize=10, color='red')\n",
    "    plt.title(f'Top 10 Teams for week {frame+1}')\n",
    "    plt.gca().invert_yaxis()  # Invert y-axis to have the top team at the top\n",
    "\n",
    "\n",
    "plt.rcParams[\"font.size\"] = 10\n",
    "plt.rcParams[\"font.family\"] = \"FreeSerif\"\n",
    "\n",
    "fig = plt.figure(figsize=(16, 9), dpi=1920/16)\n",
    "ani = FuncAnimation(fig, update, frames=len(top_teams), interval=1000)  # interval is in milliseconds\n",
    "\n",
    "ani.save('competition_animation.mp4', writer='ffmpeg')\n",
    "\n",
    "plt.show()"
   ]
  },
  {
   "cell_type": "markdown",
   "id": "d9113364",
   "metadata": {},
   "source": [
    "---\n",
    "## with [raceplotly](https://github.com/lucharo/raceplotly)"
   ]
  },
  {
   "cell_type": "code",
   "execution_count": null,
   "id": "17c0c655",
   "metadata": {},
   "outputs": [],
   "source": [
    "# pip install raceplotly\n",
    "from raceplotly.plots import barplot\n",
    "\n",
    "my_raceplot = barplot(selected_df,\n",
    "                      item_column='Name',\n",
    "                      value_column='score',\n",
    "                      time_column='weeks',\n",
    "                      top_entries=10)\n",
    "\n",
    "my_raceplot.plot(title = f'Top 10 Teams in {YEAR}',\n",
    "                 item_label = 'Top 10 Teams',\n",
    "                 value_label = 'Score',\n",
    "                 frame_duration = 800)"
   ]
  },
  {
   "cell_type": "code",
   "execution_count": null,
   "id": "33c079e6",
   "metadata": {},
   "outputs": [],
   "source": [
    "# pip install kaleido\n",
    "fig = my_raceplot.fig\n",
    "\n",
    "frames = []\n",
    "for s, fr in enumerate(fig.frames):\n",
    "    # set main traces to appropriate traces within plotly frame\n",
    "    fig.update(data=fr.data)\n",
    "    # move slider to correct place\n",
    "    fig.layout.sliders[0].update(active=s)\n",
    "    # generate image of current state\n",
    "    frames.append(PIL.Image.open(BytesIO(fig.to_image(format=\"png\"))))\n",
    "\n",
    "for i in range(2):\n",
    "    frames.append(frames[-1])\n",
    "\n",
    "# create animated GIF\n",
    "frames[0].save(\n",
    "        \"raceplotly.gif\",\n",
    "        save_all=True,\n",
    "        append_images=frames[1:],\n",
    "        optimize=False,\n",
    "        duration=1000,\n",
    "        loop=0,\n",
    "    )"
   ]
  },
  {
   "cell_type": "markdown",
   "id": "6e6ba759",
   "metadata": {},
   "source": [
    "---\n",
    "# Font issue"
   ]
  },
  {
   "cell_type": "markdown",
   "id": "5936685b",
   "metadata": {},
   "source": [
    "Installing Font\n",
    "```bash\n",
    "sudo cp /mnt/c/path/to/VictorMono.ttf /usr/local/share/fonts/\n",
    "sudo fc-cache -fv # reload system font cache\n",
    "fc-list | grep \"Victor Mono\"\n",
    "```\n",
    "\n",
    "delete matplotlib font cache\n",
    "```bash\n",
    "rm -fv $HOME/.cache/matplotlib/fontlist*.json\n",
    "```"
   ]
  },
  {
   "cell_type": "code",
   "execution_count": null,
   "id": "15172a7d",
   "metadata": {},
   "outputs": [],
   "source": [
    "import shutil, matplotlib\n",
    "cachedir = matplotlib.get_cachedir()\n",
    "shutil.rmtree(cachedir)\n",
    "print(f'delete {cachedir=}')"
   ]
  },
  {
   "cell_type": "code",
   "execution_count": null,
   "id": "198d7409",
   "metadata": {},
   "outputs": [],
   "source": [
    "# List of available font names\n",
    "from matplotlib import font_manager\n",
    "\n",
    "# print(font_manager.findSystemFonts(fontpaths=None, fontext='ttf'))\n",
    "print(font_manager.get_font_names())"
   ]
  },
  {
   "cell_type": "code",
   "execution_count": null,
   "id": "dcd2a6b4",
   "metadata": {},
   "outputs": [],
   "source": [
    "font_manager.findfont('FreeSerif', rebuild_if_missing=True)"
   ]
  },
  {
   "cell_type": "code",
   "execution_count": null,
   "id": "20c27de9",
   "metadata": {},
   "outputs": [],
   "source": [
    "# method 1\n",
    "plt.rcParams['font.family'] = 'FreeSerif'\n",
    "\n",
    "# method 2\n",
    "font_path = '/path/to/your/emoji-font.ttf'\n",
    "font_manager.fontManager.addfont(font_path)\n",
    "plt.rcParams['font.family'] = font_manager.FontProperties(fname=font_path).get_name()"
   ]
  },
  {
   "cell_type": "markdown",
   "id": "aaa4b7d3",
   "metadata": {},
   "source": [
    "### test emoji support"
   ]
  },
  {
   "cell_type": "code",
   "execution_count": null,
   "id": "a1eb1dc4",
   "metadata": {},
   "outputs": [],
   "source": [
    "import matplotlib.pyplot as plt\n",
    "\n",
    "for selected_font in font_manager.get_font_names():\n",
    "    plt.rcParams['font.family'] = selected_font\n",
    "    plt.figure(figsize=(6, 4))\n",
    "    plt.plot([1, 2, 3], [3, 2, 5], label=\"Growth 📈\")\n",
    "    plt.xlabel(\"Time 🕒\")\n",
    "    plt.ylabel(\"Value 💹\")\n",
    "    plt.title(f\"Trend Over Time 🔥 with {selected_font}\")\n",
    "    plt.legend()\n",
    "    output_filename = f\"img/sample_plot_with_emoji_{selected_font.replace(' ', '_')}.png\"\n",
    "    plt.savefig(output_filename)\n",
    "    #plt.show()\n",
    "    print(f\"Plot saved as '{output_filename}' with font '{selected_font}'\")"
   ]
  },
  {
   "cell_type": "code",
   "execution_count": null,
   "id": "6bfd4b1e",
   "metadata": {},
   "outputs": [],
   "source": []
  },
  {
   "cell_type": "code",
   "execution_count": null,
   "id": "c3c733f1",
   "metadata": {},
   "outputs": [],
   "source": []
  }
 ],
 "metadata": {
  "kernelspec": {
   "display_name": "Python 3 (ipykernel)",
   "language": "python",
   "name": "python3"
  },
  "language_info": {
   "codemirror_mode": {
    "name": "ipython",
    "version": 3
   },
   "file_extension": ".py",
   "mimetype": "text/x-python",
   "name": "python",
   "nbconvert_exporter": "python",
   "pygments_lexer": "ipython3",
   "version": "3.12.5"
  }
 },
 "nbformat": 4,
 "nbformat_minor": 5
}
